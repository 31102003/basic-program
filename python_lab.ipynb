{
  "cells": [
    {
      "cell_type": "markdown",
      "metadata": {
        "id": "Ri9LOWmI6H-P"
      },
      "source": [
        "### **Date of Conduction: 12/06/2023 After execution, write the programs into the Record**"
      ]
    },
    {
      "cell_type": "markdown",
      "metadata": {
        "id": "UnLT-q11hcWz"
      },
      "source": [
        "1. a. Write a python program to find the best of two test average marks out of three test’s marks accepted from the user."
      ]
    },
    {
      "cell_type": "code",
      "execution_count": null,
      "metadata": {
        "colab": {
          "base_uri": "https://localhost:8080/"
        },
        "id": "TE9h4zCaitO6",
        "outputId": "a76a1c35-c0b4-479d-b6e8-be171c9daeae"
      },
      "outputs": [
        {
          "name": "stdout",
          "output_type": "stream",
          "text": [
            "Enter the marks for test 1: 30\n",
            "Enter the marks for test 2: 20\n",
            "Enter the marks for test 3: 0\n",
            "The best average marks of two tests: 25.0\n"
          ]
        }
      ],
      "source": [
        "def find_best_average(marks):\n",
        "    marks.sort()\n",
        "    return (marks[1] + marks[2]) / 2\n",
        "\n",
        "tests = []\n",
        "for i in range(3):\n",
        "    test = int(input(\"Enter the marks for test {}: \".format(i + 1)))\n",
        "    tests.append(test)\n",
        "\n",
        "best_average = find_best_average(tests)\n",
        "print(\"The best average marks of two tests: {}\".format(best_average))"
      ]
    },
    {
      "cell_type": "markdown",
      "metadata": {
        "id": "z6Bw0YNrh_FC"
      },
      "source": [
        "1. b. Develop a Python program to check whether a given number is palindrome or not and also count the number of occurrences of each digit in the input number"
      ]
    },
    {
      "cell_type": "code",
      "execution_count": null,
      "metadata": {
        "colab": {
          "base_uri": "https://localhost:8080/"
        },
        "id": "qQx_DFL1iCkM",
        "outputId": "c86e66d5-7e98-4da4-ae54-96558dd0d109"
      },
      "outputs": [
        {
          "name": "stdout",
          "output_type": "stream",
          "text": [
            "Enter a number: 1234321\n",
            "The number 1234321 is a palindrome\n",
            "Digit 1 occurs 2 times\n",
            "Digit 2 occurs 2 times\n",
            "Digit 3 occurs 2 times\n",
            "Digit 4 occurs 1 times\n"
          ]
        }
      ],
      "source": [
        "def is_palindrome(number):\n",
        "    return str(number) == str(number)[::-1]\n",
        "\n",
        "def count_occurrences(number):\n",
        "    digits = [int(i) for i in str(number)]\n",
        "    count = {}\n",
        "    for digit in digits:\n",
        "        if digit in count:\n",
        "            count[digit] += 1\n",
        "        else:\n",
        "            count[digit] = 1\n",
        "    return count\n",
        "\n",
        "number = int(input(\"Enter a number: \"))\n",
        "\n",
        "if is_palindrome(number):\n",
        "    print(\"The number {} is a palindrome\".format(number))\n",
        "else:\n",
        "    print(\"The number {} is not a palindrome\".format(number))\n",
        "\n",
        "count = count_occurrences(number)\n",
        "for digit, occurrence in count.items():\n",
        "    print(\"Digit {} occurs {} times\".format(digit, occurrence))"
      ]
    },
    {
      "cell_type": "markdown",
      "metadata": {
        "id": "bMZly8oySBB7"
      },
      "source": [
        "### **Date of Conduction: 26/06/2023 After execution, write the programs into the Record**"
      ]
    },
    {
      "cell_type": "markdown",
      "metadata": {
        "id": "HXCZZE1VPImB"
      },
      "source": [
        "2a) Defined as a function F as Fn = Fn-1 + Fn-2. Write a Python program which accepts a value for N (where N >0) as input and pass this value to the function. Display suitable error message if the condition for input value is not followed."
      ]
    },
    {
      "cell_type": "code",
      "execution_count": null,
      "metadata": {
        "colab": {
          "base_uri": "https://localhost:8080/"
        },
        "id": "Qay4cfQPRk2Z",
        "outputId": "e2fc3c9c-a5fa-4fdb-c5c8-d4eb4863c1b8"
      },
      "outputs": [
        {
          "name": "stdout",
          "output_type": "stream",
          "text": [
            "Enter the value of N: 5\n",
            "Fibonacci sequence value at position 5 : 3 \n"
          ]
        }
      ],
      "source": [
        "def fibnoacci(n):\n",
        "  if n <= 0:\n",
        "    return \"Error: Invalid input\"\n",
        "  elif n == 1:\n",
        "    return 0\n",
        "  elif n == 2:\n",
        "    return 1\n",
        "  else:\n",
        "    fib_list = [0, 1]\n",
        "    for i in range(2,n):\n",
        "      fib_list.append(fib_list[-1]+fib_list[-2])\n",
        "    return fib_list[-1]\n",
        "\n",
        "n = int(input(\"Enter the value of N: \"))\n",
        "result = fibnoacci(n)\n",
        "print(\"Fibonacci sequence value at position {} : {} \".format(n,result))"
      ]
    },
    {
      "cell_type": "markdown",
      "metadata": {
        "id": "jZy2m0tKRs9p"
      },
      "source": [
        "2b) Develop a python program to convert binary to decimal, octal to hexadecimal using functions."
      ]
    },
    {
      "cell_type": "code",
      "execution_count": null,
      "metadata": {
        "colab": {
          "base_uri": "https://localhost:8080/"
        },
        "id": "PqqVdisdgAQg",
        "outputId": "42700200-7844-4a41-c0e2-7b6eebfd4bc6"
      },
      "outputs": [
        {
          "name": "stdout",
          "output_type": "stream",
          "text": [
            "Enter a binary number: 1101\n",
            "Binary 1101 in decimal: 13\n",
            "Enter a octal number: 777\n",
            "Binary 777 in decimal: 0x1ff\n"
          ]
        }
      ],
      "source": [
        "def binary_to_decimal(binary):\n",
        "  return(int(binary,2))\n",
        "\n",
        "def octal_to_decimal(octal):\n",
        "  return(int(octal,8))\n",
        "\n",
        "binary = input(\"Enter a binary number: \")\n",
        "decimal = binary_to_decimal(binary)\n",
        "print(\"Binary {} in decimal: {}\".format(binary,decimal))\n",
        "\n",
        "octal = input(\"Enter a octal number: \")\n",
        "decimal = octal_to_decimal(octal)\n",
        "print(\"Binary {} in decimal: {}\".format(octal,hex(decimal)))"
      ]
    },
    {
      "cell_type": "markdown",
      "metadata": {
        "id": "4wTbawGKrj9b"
      },
      "source": [
        "# **Date of Conduction: 03/07/2023 After execution, write the programs into the Record**"
      ]
    },
    {
      "cell_type": "markdown",
      "metadata": {
        "id": "nC0a3XLKrtVs"
      },
      "source": [
        "3 a) Write a Python program that accepts a sentence and find the number of words, digits,\n",
        "uppercase letters and lowercase letters"
      ]
    },
    {
      "cell_type": "code",
      "execution_count": null,
      "metadata": {
        "colab": {
          "base_uri": "https://localhost:8080/"
        },
        "id": "I-QhkC641qgm",
        "outputId": "5d827cde-dccd-41ae-eb10-5ece719cef88"
      },
      "outputs": [
        {
          "name": "stdout",
          "output_type": "stream",
          "text": [
            "Enter a sentence: I Love CIT Gubbi572216\n",
            "Number of words:  4\n",
            "Number of Digits 6\n",
            "Number of Uppercase Letters 6\n",
            "Number of Lowercase Letters 7\n"
          ]
        }
      ],
      "source": [
        "sentence = input(\"Enter a sentence: \")\n",
        "word_count = len(sentence.split())\n",
        "digit_count = sum(i.isdigit() for i in sentence)\n",
        "uppercase_count = sum(i.isupper() for i in sentence)\n",
        "lowercase_count = sum(i.islower() for i in sentence)\n",
        "\n",
        "print(\"Number of words: \", word_count);\n",
        "print(\"Number of Digits\", digit_count)\n",
        "print(\"Number of Uppercase Letters\", uppercase_count)\n",
        "print(\"Number of Lowercase Letters\", lowercase_count)"
      ]
    },
    {
      "cell_type": "markdown",
      "metadata": {
        "id": "Ejs4smvAr2DK"
      },
      "source": [
        "b) Write a Python program to find the string similarity between two given strings\n",
        "\n",
        "Sample Output:\n",
        "Original string:\n",
        "Python Exercises\n",
        "Python Exercises\n",
        "Similarity between two said strings:\n",
        "1.0\n",
        "\n",
        "Sample Output:\n",
        "Original string:\n",
        "Python Exercises\n",
        "Python Exercise\n",
        "Similarity between two said strings:\n",
        "0.967741935483871"
      ]
    },
    {
      "cell_type": "code",
      "execution_count": null,
      "metadata": {
        "id": "Tw0zo1GZLU6i"
      },
      "outputs": [],
      "source": [
        "pip install Levenshtein"
      ]
    },
    {
      "cell_type": "code",
      "execution_count": null,
      "metadata": {
        "colab": {
          "base_uri": "https://localhost:8080/"
        },
        "id": "OieOA0Q-tYpc",
        "outputId": "90e943c4-3d51-45de-a6b9-3900167da053"
      },
      "outputs": [
        {
          "name": "stdout",
          "output_type": "stream",
          "text": [
            "Enter a sentence 1: Python Exercises\n",
            "Enter a sentence 2: Python Exercise\n",
            "The string similarity between Python Exercises and Python Exercise is 0.9375\n"
          ]
        }
      ],
      "source": [
        "s1 = input(\"Enter a sentence 1: \")\n",
        "s2 = input(\"Enter a sentence 2: \")\n",
        "\n",
        "similarity = 1 - (Levenshtein.distance(s1, s2)/max(len(s1),len(s2)))\n",
        "\n",
        "print(\"The string similarity between {} and {} is {}\".format(s1,s2,similarity))"
      ]
    },
    {
      "cell_type": "markdown",
      "metadata": {
        "id": "o1lN1bMF_5Yl"
      },
      "source": [
        "# **Date of Conduction: 19/07/2023 After execution, write the programs into the Record**"
      ]
    },
    {
      "cell_type": "markdown",
      "metadata": {
        "id": "FGNNxMCKAa-M"
      },
      "source": [
        "4. a) Write a python program to implement insertion sort and merge sort using lists"
      ]
    },
    {
      "cell_type": "markdown",
      "metadata": {
        "id": "m1ja6P-AAe0r"
      },
      "source": [
        "Insertion Sort"
      ]
    },
    {
      "cell_type": "code",
      "execution_count": null,
      "metadata": {
        "colab": {
          "base_uri": "https://localhost:8080/"
        },
        "id": "O8O9LulZAGKx",
        "outputId": "de05fc11-eea6-4a10-b497-c620a226bf85"
      },
      "outputs": [
        {
          "name": "stdout",
          "output_type": "stream",
          "text": [
            "Unsorted list [38, 30, 8, 29, 49, 46, 7, 25, 37, 13, 42]\n",
            "Sorted list [7, 8, 13, 25, 29, 30, 37, 38, 42, 46, 49]\n"
          ]
        }
      ],
      "source": [
        "arr = [38, 30, 8, 29, 49, 46, 7, 25, 37, 13, 42]\n",
        "print(\"Unsorted list\", arr)\n",
        "for i in range(1, len(arr)):\n",
        "  key = arr[i]\n",
        "  j = i-1\n",
        "  while j >= 0 and key < arr[j]:\n",
        "    arr[j+1] = arr[j]\n",
        "    j = j - 1\n",
        "    arr[j+1]=key\n",
        "print(\"Sorted list\", arr)\n"
      ]
    },
    {
      "cell_type": "markdown",
      "metadata": {
        "id": "t3pr2s6jPRxt"
      },
      "source": [
        "Merge Sort"
      ]
    },
    {
      "cell_type": "code",
      "execution_count": null,
      "metadata": {
        "colab": {
          "base_uri": "https://localhost:8080/"
        },
        "id": "WmMFu8R2PVtm",
        "outputId": "3a4c9d83-c3b5-4208-f72a-2554be89019a"
      },
      "outputs": [
        {
          "name": "stdout",
          "output_type": "stream",
          "text": [
            "Unsorted list:  [29, 10, 14, 37]\n",
            "Sorted list:  [10, 14, 29, 37]\n"
          ]
        }
      ],
      "source": [
        "def merge_sort(arr):\n",
        "  if len(arr) > 1:\n",
        "    mid = len(arr) // 2\n",
        "    left = arr[:mid]\n",
        "    right = arr[mid:]\n",
        "    merge_sort(left)\n",
        "    merge_sort(right)\n",
        "    i = j = k = 0\n",
        "    while i < len(left) and j < len(right):\n",
        "      if left[i] < right[j]:\n",
        "        arr[k] = left[i]\n",
        "        i += 1\n",
        "      else:\n",
        "        arr[k] = right[j]\n",
        "        j += 1\n",
        "      k += 1\n",
        "    while i < len(left):\n",
        "      arr[k] = left[i]\n",
        "      i += 1\n",
        "      k += 1\n",
        "    while j < len(right):\n",
        "      arr[k] = right[j]\n",
        "      j += 1\n",
        "      k += 1\n",
        "  return arr\n",
        "arr=[29,10,14,37]\n",
        "print(\"Unsorted list: \", arr)\n",
        "sorted_arr = merge_sort(arr)\n",
        "print(\"Sorted list: \", sorted_arr)"
      ]
    },
    {
      "cell_type": "markdown",
      "metadata": {
        "id": "qS4RGUBHjqb0"
      },
      "source": [
        "4. b)Write a program to convert roman numbers in to integer values using dictionaries."
      ]
    },
    {
      "cell_type": "code",
      "execution_count": null,
      "metadata": {
        "colab": {
          "base_uri": "https://localhost:8080/"
        },
        "id": "X7PebQz8fe9O",
        "outputId": "82ebb33e-be56-407f-97a0-5d6f41bd0abc"
      },
      "outputs": [
        {
          "name": "stdout",
          "output_type": "stream",
          "text": [
            "Enter a roman numeral: X\n",
            "Integer value:  10\n"
          ]
        }
      ],
      "source": [
        "def roman_to_int(roman):\n",
        "  roman_dict = {'I':1, 'V':5, 'X':10, 'L':50, 'c':100, 'D':500, 'M':1000}\n",
        "  sum = 0\n",
        "  flag = 0\n",
        "  if roman in roman_dict.keys():\n",
        "    for i in range(len(roman)):\n",
        "      val = roman_dict[roman[i]]\n",
        "      if i + 1 < len(roman) and roman_dict[roman[i+1]] > val:\n",
        "        sum = sum - val\n",
        "      else:\n",
        "        sum = sum + val\n",
        "    return sum\n",
        "  else:\n",
        "    print(\"Invalid Input\")\n",
        "    exit()\n",
        "roman = input(\"Enter a roman numeral: \")\n",
        "num = roman_to_int(roman)\n",
        "print(\"Integer value: \",num)"
      ]
    },
    {
      "cell_type": "markdown",
      "metadata": {
        "id": "hV0VMZXO2euJ"
      },
      "source": [
        "### **Date of Conduction: 02/08/2023 After execution, write the programs into the Record**"
      ]
    },
    {
      "cell_type": "markdown",
      "metadata": {
        "id": "Wu3pe_zE2mJ_"
      },
      "source": [
        "a) Write a function called isphonenumber () to recognize a pattern 415-555-4242 without using regular expression and also write the code to recognize the same pattern using regular expression."
      ]
    },
    {
      "cell_type": "code",
      "execution_count": null,
      "metadata": {
        "id": "8E3GKvtL_q-J",
        "colab": {
          "base_uri": "https://localhost:8080/"
        },
        "outputId": "1ec3a6f6-7136-4c8f-adf5-e0ab882a6e4f"
      },
      "outputs": [
        {
          "output_type": "stream",
          "name": "stdout",
          "text": [
            "Enter a phone number: 12345678\n",
            "Invalid phone number\n"
          ]
        }
      ],
      "source": [
        "def isphonenumber(number):\n",
        "  if len(number) != 12:\n",
        "    return False\n",
        "  for i in range(0,3):\n",
        "    if not number[i].isdigit():\n",
        "      return False\n",
        "  if number[3] != '-':\n",
        "    return False\n",
        "  for i in range(4, 7):\n",
        "    if not number[i].isdigit():\n",
        "      return False\n",
        "  if number[7] != '-':\n",
        "    return False\n",
        "  for i in range(8, 12):\n",
        "    if not number[i].isdigit():\n",
        "      return False\n",
        "  return True\n",
        "phone_number = input(\"Enter a phone number: \")\n",
        "if isphonenumber(phone_number):\n",
        "  print(\"Valid phone number\")\n",
        "else:\n",
        "  print(\"Invalid phone number\")"
      ]
    },
    {
      "cell_type": "code",
      "execution_count": null,
      "metadata": {
        "colab": {
          "base_uri": "https://localhost:8080/"
        },
        "id": "tamqR0sHf6HH",
        "outputId": "ffe62338-17bc-43f9-9ce2-69b4b1d0249d"
      },
      "outputs": [
        {
          "output_type": "stream",
          "name": "stdout",
          "text": [
            "Enter a phone number: 1234\n",
            "Invalid phone number\n"
          ]
        }
      ],
      "source": [
        "import re\n",
        "def isphonenumber(number):\n",
        "  pattern = r\"\\d{3}-\\d{3}-\\d{4}\"\n",
        "  return re.search(pattern, number)\n",
        "phone_number = input(\"Enter a phone number: \")\n",
        "if isphonenumber(phone_number):\n",
        "  print(\"Valid phone number\")\n",
        "else:\n",
        "  print(\"Invalid phone number\")"
      ]
    },
    {
      "cell_type": "markdown",
      "metadata": {
        "id": "H1WP_brf2tsv"
      },
      "source": [
        "b) Develop a python program that could search the text in a file for phone numbers (+919900889977) and email addresses (sample@gmail.com)"
      ]
    },
    {
      "cell_type": "code",
      "execution_count": null,
      "metadata": {
        "id": "uw1wNb2E_ro6"
      },
      "outputs": [],
      "source": [
        "import re\n",
        "\n",
        "filename = \"/content/phoneandemail\"\n",
        "phone_pattern = r\"\\+\\d{12}\"\n",
        "email_pattern = r\"\\b[A-Za-z0-9._%+-]+@[A-Za-z0-9.-]+\\.[A-Z|a-z]{2,}\\b\"\n",
        "\n",
        "with open(filename, 'r') as file:\n",
        "  content = file.read()\n",
        "\n",
        "phone_matches = re.findall(phone_pattern, content)\n",
        "email_matches = re.findall(email_pattern, content)\n",
        "\n",
        "print(\"Phone Numbers:\",phone_matches)\n",
        "print(\"\\nEmail Addresses:\",email_matches)"
      ]
    },
    {
      "cell_type": "markdown",
      "source": [
        "## **Date of Conduction: 16/08/2023 After execution, write the programs into the Record**"
      ],
      "metadata": {
        "id": "0pmTvmfUqJdF"
      }
    },
    {
      "cell_type": "markdown",
      "source": [
        "6.a. Write a python program to accept a file name from the user and perform the following operations\n",
        "\n",
        "Display the first N line of the file\n",
        "Find the frequency of occurrence of the word accepted from the user in the file"
      ],
      "metadata": {
        "id": "qxnIkPGgqlMN"
      }
    },
    {
      "cell_type": "code",
      "source": [
        "def display_first_n_lines(filename, n):\n",
        "  with open(filename, 'r') as file:\n",
        "    lines = file.readlines()\n",
        "    for i in range(min(n,len(lines))):\n",
        "      print(lines[i].strip())\n",
        "\n",
        "def display_word_frequency(filename, word):\n",
        "  with open(filename, 'r') as file:\n",
        "    content = file.read()\n",
        "    word_count = content.count(word)\n",
        "    print(\"The number of occurences are---->\",word_count)\n",
        "\n",
        "filename = input(\"Enter the name of the File: \")\n",
        "n = int(input(\"Enter the number of lines to display: \"))\n",
        "display_first_n_lines(filename, n)\n",
        "\n",
        "word = input(\"Entner the word to find its frequency: \")\n",
        "display_word_frequency(filename, word)"
      ],
      "metadata": {
        "id": "FbNMQmxXnKMK",
        "colab": {
          "base_uri": "https://localhost:8080/"
        },
        "outputId": "f1860b1e-0576-484a-c4ba-32a356a4e307"
      },
      "execution_count": null,
      "outputs": [
        {
          "output_type": "stream",
          "name": "stdout",
          "text": [
            "Enter the name of the File: /content/inputfile\n",
            "Enter the number of lines to display: 2\n",
            "cit is my college\n",
            "my name is anil\n",
            "Entner the word to find its frequency: is\n",
            "The number of occurences are----> 3\n"
          ]
        }
      ]
    },
    {
      "cell_type": "markdown",
      "source": [
        "b) Write a python program to create a ZIP file of a particular folder which contains several files inside it."
      ],
      "metadata": {
        "id": "WgQwxWoDrUGI"
      }
    },
    {
      "cell_type": "code",
      "source": [
        "import os\n",
        "import sys\n",
        "import pathlib\n",
        "import zipfile\n",
        "\n",
        "dirname = input(\"Enter directory name that you want to zip: \")\n",
        "if not os.path.isdir(dirname):\n",
        "  print(\"Directory doesnot exists \")\n",
        "  sys.exit(0)\n",
        "\n",
        "curDir = pathlib.Path(dirname)\n",
        "with zipfile.ZipFile(\"myzip.zip\", mode='w') as archive:\n",
        "  for file_path in curDir.rglob(\"*\"):\n",
        "    archive.write(file_path, os.path.relpath(file_path, curDir))\n",
        "\n",
        "if os.path.isfile(\"myzip.zip\"):\n",
        "  print(\"Zip file created successfully\")\n",
        "else:\n",
        "  print(\"zip file failed\")"
      ],
      "metadata": {
        "id": "kq89DjH_nKsJ",
        "colab": {
          "base_uri": "https://localhost:8080/"
        },
        "outputId": "f8380137-3c4a-49be-dd0b-1e176079dccb"
      },
      "execution_count": null,
      "outputs": [
        {
          "output_type": "stream",
          "name": "stdout",
          "text": [
            "Enter directory name that you want to zip: /content/chapter\n",
            "Zip file created successfully\n"
          ]
        }
      ]
    },
    {
      "cell_type": "markdown",
      "source": [
        "### **Date of Conduction: 23/08/2023 After execution, write the programs into the Record**"
      ],
      "metadata": {
        "id": "X2JUdcJRFmZY"
      }
    },
    {
      "cell_type": "markdown",
      "source": [
        "7a) By using the concept of inheritance write a python program to find the area of triangle, circle and rectangle."
      ],
      "metadata": {
        "id": "Pn_xvvSzFtfP"
      }
    },
    {
      "cell_type": "code",
      "source": [
        "import math\n",
        "\n",
        "class shape:\n",
        "  def __init__(self, name):\n",
        "    self.name = name\n",
        "\n",
        "  def get_area(self):\n",
        "    pass\n",
        "\n",
        "class triangle(shape):\n",
        "  def __init__(self, base, height):\n",
        "    super().__init__(\"Triangle\")\n",
        "    self.base = base\n",
        "    self.height = height\n",
        "\n",
        "  def get_area(self):\n",
        "    return 0.5 * self.base * self.height\n",
        "\n",
        "class circle(shape):\n",
        "  def __init__(self, radius):\n",
        "    super().__init__(\"Circle\")\n",
        "    self.radius = radius\n",
        "\n",
        "  def get_area(self):\n",
        "    return math.pi * self.radius ** 2\n",
        "\n",
        "class rectangle(shape):\n",
        "  def __init__(self, length, width):\n",
        "    super().__init__(\"Rectangle\")\n",
        "    self.length = length\n",
        "    self.width = width\n",
        "\n",
        "  def get_area(self):\n",
        "    return self.length * self.width\n",
        "\n",
        "tri = triangle(6, 8)\n",
        "cir = circle(5)\n",
        "rec = rectangle(4,10)\n",
        "\n",
        "print(\"Area of \", tri.name, tri.get_area())\n",
        "print(\"Area of \", cir.name, cir.get_area())\n",
        "print(\"Area of \", rec.name, rec.get_area())\n"
      ],
      "metadata": {
        "colab": {
          "base_uri": "https://localhost:8080/"
        },
        "id": "NIhsb5F5yrWq",
        "outputId": "9ff89e94-bf36-4a7b-ffa1-439ddd4e821f"
      },
      "execution_count": null,
      "outputs": [
        {
          "output_type": "stream",
          "name": "stdout",
          "text": [
            "Area of  Triangle 24.0\n",
            "Area of  Circle 78.53981633974483\n",
            "Area of  Rectangle 40\n"
          ]
        }
      ]
    },
    {
      "cell_type": "markdown",
      "source": [
        "7b) Write a python program by creating a class called Employee to store the details of Name, Employee_ID, Department and Salary, and implement a method to update salary of employees belonging to a given department."
      ],
      "metadata": {
        "id": "pmnBkNarGHGr"
      }
    },
    {
      "cell_type": "code",
      "source": [
        "class Employee:\n",
        "  def __init__(self, name, employee_id, department, salary):\n",
        "    self.name = name\n",
        "    self.employee_id = employee_id\n",
        "    self.department = department\n",
        "    self.salary = salary\n",
        "\n",
        "  def display_details(self):\n",
        "    print(\"Employee Name: \",self.name)\n",
        "    print(\"Employee ID: \",self.employee_id)\n",
        "    print(\"Employee Department: \",self.department)\n",
        "    print(\"Employee Salary: \",self.salary)\n",
        "    print()\n",
        "\n",
        "  def update_salary(self, department, new_salary):\n",
        "    if self.department == department:\n",
        "      self.salary = new_salary\n",
        "\n",
        "e1 = Employee(\"Anil Kumar\",\"CITCSE004\",\"CSE\",10000)\n",
        "e2 = Employee(\"Sunil Kumar\",\"CITISE005\",\"ISE\",20000)\n",
        "e3 = Employee(\"Hari\",\"CITME006\",\"ME\",5000)\n",
        "\n",
        "e1.display_details()\n",
        "e2.display_details()\n",
        "e3.display_details()\n",
        "\n",
        "department = \"CSE\"\n",
        "new_salary = 20000\n",
        "\n",
        "e1.update_salary(department,new_salary)\n",
        "\n",
        "if e2.department == \"ISE\":\n",
        "  e2.salary = 30000\n",
        "\n",
        "e1.display_details()\n",
        "e2.display_details()\n",
        "e3.display_details()\n",
        "\n"
      ],
      "metadata": {
        "id": "CuU3HiVaGLra",
        "colab": {
          "base_uri": "https://localhost:8080/"
        },
        "outputId": "6e915ca4-f7c6-47bb-b86e-12791941304f"
      },
      "execution_count": null,
      "outputs": [
        {
          "output_type": "stream",
          "name": "stdout",
          "text": [
            "Employee Name:  Anil Kumar\n",
            "Employee ID:  CITCSE004\n",
            "Employee Department:  CSE\n",
            "Employee Salary:  10000\n",
            "\n",
            "Employee Name:  Sunil Kumar\n",
            "Employee ID:  CITISE005\n",
            "Employee Department:  ISE\n",
            "Employee Salary:  20000\n",
            "\n",
            "Employee Name:  Hari\n",
            "Employee ID:  CITME006\n",
            "Employee Department:  ME\n",
            "Employee Salary:  5000\n",
            "\n",
            "Employee Name:  Anil Kumar\n",
            "Employee ID:  CITCSE004\n",
            "Employee Department:  CSE\n",
            "Employee Salary:  20000\n",
            "\n",
            "Employee Name:  Sunil Kumar\n",
            "Employee ID:  CITISE005\n",
            "Employee Department:  ISE\n",
            "Employee Salary:  30000\n",
            "\n",
            "Employee Name:  Hari\n",
            "Employee ID:  CITME006\n",
            "Employee Department:  ME\n",
            "Employee Salary:  5000\n",
            "\n"
          ]
        }
      ]
    },
    {
      "cell_type": "markdown",
      "source": [
        "### **Date of Conduction: 28/08/2023 After execution, write the programs into the Record**"
      ],
      "metadata": {
        "id": "-Mo-a_471KAD"
      }
    },
    {
      "cell_type": "markdown",
      "source": [
        "8. Write a python program to find the whether the given input is palindrome or not (for both string and integer) using the concept of polymorphism and inheritance."
      ],
      "metadata": {
        "id": "KJi_7o5z1Sam"
      }
    },
    {
      "cell_type": "code",
      "source": [
        "class PalindromeChecker:\n",
        "  def if_palindrome(self, input):\n",
        "    pass\n",
        "\n",
        "class StringPalindromeChecker(PalindromeChecker):\n",
        "  def if_palindrome(self, input):\n",
        "    return input == input[::-1]\n",
        "\n",
        "class IntegerPalindromeChecker(PalindromeChecker):\n",
        "  def if_palindrome(self, input):\n",
        "    return input == input[::-1]\n",
        "\n",
        "string_checker = StringPalindromeChecker()\n",
        "integer_checker = IntegerPalindromeChecker()\n",
        "\n",
        "Stringinput = input(\"Enter the String input: \")\n",
        "\n",
        "if string_checker.if_palindrome(Stringinput):\n",
        "  print(\"The String is Palindrome.\")\n",
        "else:\n",
        "  print(\"The String is not Palindrome.\")\n",
        "\n",
        "Intinput = input(\"Enter the Integer input: \")\n",
        "\n",
        "if integer_checker.if_palindrome(Intinput):\n",
        "  print(\"The Integer is Palindrome.\")\n",
        "else:\n",
        "  print(\"The Integer is not Palindrome.\")"
      ],
      "metadata": {
        "colab": {
          "base_uri": "https://localhost:8080/"
        },
        "id": "uW_xdUCx1QbO",
        "outputId": "c3968419-7457-4ece-e1d7-5fccd19c9b1a"
      },
      "execution_count": null,
      "outputs": [
        {
          "output_type": "stream",
          "name": "stdout",
          "text": [
            "5\n"
          ]
        }
      ]
    },
    {
      "cell_type": "markdown",
      "source": [
        "10 a) Write a python program to combine select pages from many PDFs"
      ],
      "metadata": {
        "id": "bQ4DhANh1eaE"
      }
    },
    {
      "cell_type": "code",
      "source": [
        "pip install PyPDF2"
      ],
      "metadata": {
        "id": "EJhp700Q1kAZ",
        "colab": {
          "base_uri": "https://localhost:8080/"
        },
        "outputId": "e0fb39f5-5a14-492f-fd89-c2fc963be61a"
      },
      "execution_count": null,
      "outputs": [
        {
          "output_type": "stream",
          "name": "stdout",
          "text": [
            "Collecting PyPDF2\n",
            "  Downloading pypdf2-3.0.1-py3-none-any.whl (232 kB)\n",
            "\u001b[?25l     \u001b[90m━━━━━━━━━━━━━━━━━━━━━━━━━━━━━━━━━━━━━━━━\u001b[0m \u001b[32m0.0/232.6 kB\u001b[0m \u001b[31m?\u001b[0m eta \u001b[36m-:--:--\u001b[0m\r\u001b[2K     \u001b[91m━━━━━━━━━━\u001b[0m\u001b[91m╸\u001b[0m\u001b[90m━━━━━━━━━━━━━━━━━━━━━━━━━━━━━\u001b[0m \u001b[32m61.4/232.6 kB\u001b[0m \u001b[31m1.7 MB/s\u001b[0m eta \u001b[36m0:00:01\u001b[0m\r\u001b[2K     \u001b[90m━━━━━━━━━━━━━━━━━━━━━━━━━━━━━━━━━━━━━━━\u001b[0m \u001b[32m232.6/232.6 kB\u001b[0m \u001b[31m3.8 MB/s\u001b[0m eta \u001b[36m0:00:00\u001b[0m\n",
            "\u001b[?25hInstalling collected packages: PyPDF2\n",
            "Successfully installed PyPDF2-3.0.1\n"
          ]
        }
      ]
    },
    {
      "cell_type": "code",
      "source": [
        "from PyPDF2 import PdfWriter, PdfReader\n",
        "\n",
        "wpdf = PdfWriter()\n",
        "\n",
        "rpdf1 = PdfReader(open('1.pdf', 'rb'))\n",
        "wpdf.add_page(rpdf1.pages[0])\n",
        "\n",
        "rpdf2 = PdfReader(open('2.pdf', 'rb'))\n",
        "wpdf.add_page(rpdf2.pages[0])\n",
        "\n",
        "with open(\"output.pdf\",\"wb\") as output:\n",
        "  wpdf.write(output)\n"
      ],
      "metadata": {
        "id": "lra54GtvgPFp"
      },
      "execution_count": null,
      "outputs": []
    },
    {
      "cell_type": "markdown",
      "source": [
        "10 b) Write a python program to fetch current weather data from the JSON file"
      ],
      "metadata": {
        "id": "Zoh1FV3e1kZw"
      }
    },
    {
      "cell_type": "code",
      "source": [
        "import json\n",
        "\n",
        "with open('weather.json') as f:data = json.load(f)\n",
        "\n",
        "current_temp = data['main']['temp']\n",
        "humidity = data['main']['humidity']\n",
        "weather_desc = data['weather'][0]['description']\n",
        "\n",
        "print(f\"Current temperature: {current_temp}°C\")\n",
        "print(f\"Humidity: {humidity}% \")\n",
        "print(f\"Weather description: {weather_desc}\")"
      ],
      "metadata": {
        "id": "QdDkXJnf1n34",
        "colab": {
          "base_uri": "https://localhost:8080/"
        },
        "outputId": "2886978a-8609-4ee0-a32a-68eb35672eb9"
      },
      "execution_count": null,
      "outputs": [
        {
          "output_type": "stream",
          "name": "stdout",
          "text": [
            "Current temperature: 298.48°C\n",
            "Humidity: 64% \n",
            "Weather description: moderate rain\n"
          ]
        }
      ]
    },
    {
      "cell_type": "markdown",
      "source": [
        "### **Date of Conduction: 04/09/2023 After execution, write the programs into the Record**"
      ],
      "metadata": {
        "id": "00LYvcUsRx7J"
      }
    },
    {
      "cell_type": "markdown",
      "source": [
        "9. a) Write a python program to download the all XKCD comics"
      ],
      "metadata": {
        "id": "_cxQsYxuR2EH"
      }
    },
    {
      "cell_type": "code",
      "source": [
        "import requests\n",
        "import os\n",
        "\n",
        "base_url = 'https://xkcd.com'\n",
        "save_directory = 'xkcd_comics'\n",
        "\n",
        "if not os.path.exists(save_directory):\n",
        "  os.makedirs(save_directory)\n",
        "\n",
        "comic_number = 1\n",
        "\n",
        "for i in range(10):\n",
        "  comic_url = f'{base_url}/{comic_number}/info.0.json'\n",
        "  response = requests.get(comic_url)\n",
        "\n",
        "  if response.status_code == 200:\n",
        "    comic_data = response.json()\n",
        "    image_url = comic_data['img']\n",
        "\n",
        "    response = requests.get(image_url)\n",
        "    image_path = os.path.join(save_directory,f'xkcd_{comic_number}.png')\n",
        "\n",
        "    with open(image_path,\"wb\") as image_file:\n",
        "      image_file.write(response.content)\n",
        "\n",
        "    print(f'Downloaded comic #{comic_number}')\n",
        "    comic_number += 1\n",
        "  else:\n",
        "    break\n",
        "\n",
        "    print(\"10 XKCD comics downloaded successfully\")\n"
      ],
      "metadata": {
        "colab": {
          "base_uri": "https://localhost:8080/",
          "height": 1000
        },
        "id": "7ZiiTgaYZ8Mt",
        "outputId": "5c3dd089-132f-4547-bdb5-0a0b9706081d"
      },
      "execution_count": null,
      "outputs": [
        {
          "output_type": "stream",
          "name": "stdout",
          "text": [
            "Downloaded comic #1\n",
            "Downloaded comic #2\n",
            "Downloaded comic #3\n",
            "Downloaded comic #4\n",
            "Downloaded comic #5\n",
            "Downloaded comic #6\n",
            "Downloaded comic #7\n",
            "Downloaded comic #8\n",
            "Downloaded comic #9\n",
            "Downloaded comic #10\n",
            "Downloaded comic #11\n",
            "Downloaded comic #12\n",
            "Downloaded comic #13\n",
            "Downloaded comic #14\n",
            "Downloaded comic #15\n",
            "Downloaded comic #16\n",
            "Downloaded comic #17\n",
            "Downloaded comic #18\n",
            "Downloaded comic #19\n",
            "Downloaded comic #20\n",
            "Downloaded comic #21\n",
            "Downloaded comic #22\n",
            "Downloaded comic #23\n",
            "Downloaded comic #24\n",
            "Downloaded comic #25\n",
            "Downloaded comic #26\n",
            "Downloaded comic #27\n",
            "Downloaded comic #28\n",
            "Downloaded comic #29\n",
            "Downloaded comic #30\n",
            "Downloaded comic #31\n",
            "Downloaded comic #32\n",
            "Downloaded comic #33\n",
            "Downloaded comic #34\n",
            "Downloaded comic #35\n",
            "Downloaded comic #36\n",
            "Downloaded comic #37\n",
            "Downloaded comic #38\n",
            "Downloaded comic #39\n",
            "Downloaded comic #40\n",
            "Downloaded comic #41\n",
            "Downloaded comic #42\n",
            "Downloaded comic #43\n",
            "Downloaded comic #44\n",
            "Downloaded comic #45\n",
            "Downloaded comic #46\n",
            "Downloaded comic #47\n",
            "Downloaded comic #48\n",
            "Downloaded comic #49\n",
            "Downloaded comic #50\n",
            "Downloaded comic #51\n",
            "Downloaded comic #52\n",
            "Downloaded comic #53\n",
            "Downloaded comic #54\n",
            "Downloaded comic #55\n"
          ]
        },
        {
          "output_type": "error",
          "ename": "KeyboardInterrupt",
          "evalue": "ignored",
          "traceback": [
            "\u001b[0;31m---------------------------------------------------------------------------\u001b[0m",
            "\u001b[0;31mKeyboardInterrupt\u001b[0m                         Traceback (most recent call last)",
            "\u001b[0;32m<ipython-input-2-6d18e8a97f2b>\u001b[0m in \u001b[0;36m<cell line: 12>\u001b[0;34m()\u001b[0m\n\u001b[1;32m     18\u001b[0m     \u001b[0mimage_url\u001b[0m \u001b[0;34m=\u001b[0m \u001b[0mcomic_data\u001b[0m\u001b[0;34m[\u001b[0m\u001b[0;34m'img'\u001b[0m\u001b[0;34m]\u001b[0m\u001b[0;34m\u001b[0m\u001b[0;34m\u001b[0m\u001b[0m\n\u001b[1;32m     19\u001b[0m \u001b[0;34m\u001b[0m\u001b[0m\n\u001b[0;32m---> 20\u001b[0;31m     \u001b[0mresponse\u001b[0m \u001b[0;34m=\u001b[0m \u001b[0mrequests\u001b[0m\u001b[0;34m.\u001b[0m\u001b[0mget\u001b[0m\u001b[0;34m(\u001b[0m\u001b[0mimage_url\u001b[0m\u001b[0;34m)\u001b[0m\u001b[0;34m\u001b[0m\u001b[0;34m\u001b[0m\u001b[0m\n\u001b[0m\u001b[1;32m     21\u001b[0m     \u001b[0mimage_path\u001b[0m \u001b[0;34m=\u001b[0m \u001b[0mos\u001b[0m\u001b[0;34m.\u001b[0m\u001b[0mpath\u001b[0m\u001b[0;34m.\u001b[0m\u001b[0mjoin\u001b[0m\u001b[0;34m(\u001b[0m\u001b[0msave_directory\u001b[0m\u001b[0;34m,\u001b[0m\u001b[0;34mf'xkcd_{comic_number}.png'\u001b[0m\u001b[0;34m)\u001b[0m\u001b[0;34m\u001b[0m\u001b[0;34m\u001b[0m\u001b[0m\n\u001b[1;32m     22\u001b[0m \u001b[0;34m\u001b[0m\u001b[0m\n",
            "\u001b[0;32m/usr/local/lib/python3.10/dist-packages/requests/api.py\u001b[0m in \u001b[0;36mget\u001b[0;34m(url, params, **kwargs)\u001b[0m\n\u001b[1;32m     71\u001b[0m     \"\"\"\n\u001b[1;32m     72\u001b[0m \u001b[0;34m\u001b[0m\u001b[0m\n\u001b[0;32m---> 73\u001b[0;31m     \u001b[0;32mreturn\u001b[0m \u001b[0mrequest\u001b[0m\u001b[0;34m(\u001b[0m\u001b[0;34m\"get\"\u001b[0m\u001b[0;34m,\u001b[0m \u001b[0murl\u001b[0m\u001b[0;34m,\u001b[0m \u001b[0mparams\u001b[0m\u001b[0;34m=\u001b[0m\u001b[0mparams\u001b[0m\u001b[0;34m,\u001b[0m \u001b[0;34m**\u001b[0m\u001b[0mkwargs\u001b[0m\u001b[0;34m)\u001b[0m\u001b[0;34m\u001b[0m\u001b[0;34m\u001b[0m\u001b[0m\n\u001b[0m\u001b[1;32m     74\u001b[0m \u001b[0;34m\u001b[0m\u001b[0m\n\u001b[1;32m     75\u001b[0m \u001b[0;34m\u001b[0m\u001b[0m\n",
            "\u001b[0;32m/usr/local/lib/python3.10/dist-packages/requests/api.py\u001b[0m in \u001b[0;36mrequest\u001b[0;34m(method, url, **kwargs)\u001b[0m\n\u001b[1;32m     57\u001b[0m     \u001b[0;31m# cases, and look like a memory leak in others.\u001b[0m\u001b[0;34m\u001b[0m\u001b[0;34m\u001b[0m\u001b[0m\n\u001b[1;32m     58\u001b[0m     \u001b[0;32mwith\u001b[0m \u001b[0msessions\u001b[0m\u001b[0;34m.\u001b[0m\u001b[0mSession\u001b[0m\u001b[0;34m(\u001b[0m\u001b[0;34m)\u001b[0m \u001b[0;32mas\u001b[0m \u001b[0msession\u001b[0m\u001b[0;34m:\u001b[0m\u001b[0;34m\u001b[0m\u001b[0;34m\u001b[0m\u001b[0m\n\u001b[0;32m---> 59\u001b[0;31m         \u001b[0;32mreturn\u001b[0m \u001b[0msession\u001b[0m\u001b[0;34m.\u001b[0m\u001b[0mrequest\u001b[0m\u001b[0;34m(\u001b[0m\u001b[0mmethod\u001b[0m\u001b[0;34m=\u001b[0m\u001b[0mmethod\u001b[0m\u001b[0;34m,\u001b[0m \u001b[0murl\u001b[0m\u001b[0;34m=\u001b[0m\u001b[0murl\u001b[0m\u001b[0;34m,\u001b[0m \u001b[0;34m**\u001b[0m\u001b[0mkwargs\u001b[0m\u001b[0;34m)\u001b[0m\u001b[0;34m\u001b[0m\u001b[0;34m\u001b[0m\u001b[0m\n\u001b[0m\u001b[1;32m     60\u001b[0m \u001b[0;34m\u001b[0m\u001b[0m\n\u001b[1;32m     61\u001b[0m \u001b[0;34m\u001b[0m\u001b[0m\n",
            "\u001b[0;32m/usr/local/lib/python3.10/dist-packages/requests/sessions.py\u001b[0m in \u001b[0;36mrequest\u001b[0;34m(self, method, url, params, data, headers, cookies, files, auth, timeout, allow_redirects, proxies, hooks, stream, verify, cert, json)\u001b[0m\n\u001b[1;32m    587\u001b[0m         }\n\u001b[1;32m    588\u001b[0m         \u001b[0msend_kwargs\u001b[0m\u001b[0;34m.\u001b[0m\u001b[0mupdate\u001b[0m\u001b[0;34m(\u001b[0m\u001b[0msettings\u001b[0m\u001b[0;34m)\u001b[0m\u001b[0;34m\u001b[0m\u001b[0;34m\u001b[0m\u001b[0m\n\u001b[0;32m--> 589\u001b[0;31m         \u001b[0mresp\u001b[0m \u001b[0;34m=\u001b[0m \u001b[0mself\u001b[0m\u001b[0;34m.\u001b[0m\u001b[0msend\u001b[0m\u001b[0;34m(\u001b[0m\u001b[0mprep\u001b[0m\u001b[0;34m,\u001b[0m \u001b[0;34m**\u001b[0m\u001b[0msend_kwargs\u001b[0m\u001b[0;34m)\u001b[0m\u001b[0;34m\u001b[0m\u001b[0;34m\u001b[0m\u001b[0m\n\u001b[0m\u001b[1;32m    590\u001b[0m \u001b[0;34m\u001b[0m\u001b[0m\n\u001b[1;32m    591\u001b[0m         \u001b[0;32mreturn\u001b[0m \u001b[0mresp\u001b[0m\u001b[0;34m\u001b[0m\u001b[0;34m\u001b[0m\u001b[0m\n",
            "\u001b[0;32m/usr/local/lib/python3.10/dist-packages/requests/sessions.py\u001b[0m in \u001b[0;36msend\u001b[0;34m(self, request, **kwargs)\u001b[0m\n\u001b[1;32m    745\u001b[0m \u001b[0;34m\u001b[0m\u001b[0m\n\u001b[1;32m    746\u001b[0m         \u001b[0;32mif\u001b[0m \u001b[0;32mnot\u001b[0m \u001b[0mstream\u001b[0m\u001b[0;34m:\u001b[0m\u001b[0;34m\u001b[0m\u001b[0;34m\u001b[0m\u001b[0m\n\u001b[0;32m--> 747\u001b[0;31m             \u001b[0mr\u001b[0m\u001b[0;34m.\u001b[0m\u001b[0mcontent\u001b[0m\u001b[0;34m\u001b[0m\u001b[0;34m\u001b[0m\u001b[0m\n\u001b[0m\u001b[1;32m    748\u001b[0m \u001b[0;34m\u001b[0m\u001b[0m\n\u001b[1;32m    749\u001b[0m         \u001b[0;32mreturn\u001b[0m \u001b[0mr\u001b[0m\u001b[0;34m\u001b[0m\u001b[0;34m\u001b[0m\u001b[0m\n",
            "\u001b[0;32m/usr/local/lib/python3.10/dist-packages/requests/models.py\u001b[0m in \u001b[0;36mcontent\u001b[0;34m(self)\u001b[0m\n\u001b[1;32m    897\u001b[0m                 \u001b[0mself\u001b[0m\u001b[0;34m.\u001b[0m\u001b[0m_content\u001b[0m \u001b[0;34m=\u001b[0m \u001b[0;32mNone\u001b[0m\u001b[0;34m\u001b[0m\u001b[0;34m\u001b[0m\u001b[0m\n\u001b[1;32m    898\u001b[0m             \u001b[0;32melse\u001b[0m\u001b[0;34m:\u001b[0m\u001b[0;34m\u001b[0m\u001b[0;34m\u001b[0m\u001b[0m\n\u001b[0;32m--> 899\u001b[0;31m                 \u001b[0mself\u001b[0m\u001b[0;34m.\u001b[0m\u001b[0m_content\u001b[0m \u001b[0;34m=\u001b[0m \u001b[0;34mb\"\"\u001b[0m\u001b[0;34m.\u001b[0m\u001b[0mjoin\u001b[0m\u001b[0;34m(\u001b[0m\u001b[0mself\u001b[0m\u001b[0;34m.\u001b[0m\u001b[0miter_content\u001b[0m\u001b[0;34m(\u001b[0m\u001b[0mCONTENT_CHUNK_SIZE\u001b[0m\u001b[0;34m)\u001b[0m\u001b[0;34m)\u001b[0m \u001b[0;32mor\u001b[0m \u001b[0;34mb\"\"\u001b[0m\u001b[0;34m\u001b[0m\u001b[0;34m\u001b[0m\u001b[0m\n\u001b[0m\u001b[1;32m    900\u001b[0m \u001b[0;34m\u001b[0m\u001b[0m\n\u001b[1;32m    901\u001b[0m         \u001b[0mself\u001b[0m\u001b[0;34m.\u001b[0m\u001b[0m_content_consumed\u001b[0m \u001b[0;34m=\u001b[0m \u001b[0;32mTrue\u001b[0m\u001b[0;34m\u001b[0m\u001b[0;34m\u001b[0m\u001b[0m\n",
            "\u001b[0;32m/usr/local/lib/python3.10/dist-packages/requests/models.py\u001b[0m in \u001b[0;36mgenerate\u001b[0;34m()\u001b[0m\n\u001b[1;32m    814\u001b[0m             \u001b[0;32mif\u001b[0m \u001b[0mhasattr\u001b[0m\u001b[0;34m(\u001b[0m\u001b[0mself\u001b[0m\u001b[0;34m.\u001b[0m\u001b[0mraw\u001b[0m\u001b[0;34m,\u001b[0m \u001b[0;34m\"stream\"\u001b[0m\u001b[0;34m)\u001b[0m\u001b[0;34m:\u001b[0m\u001b[0;34m\u001b[0m\u001b[0;34m\u001b[0m\u001b[0m\n\u001b[1;32m    815\u001b[0m                 \u001b[0;32mtry\u001b[0m\u001b[0;34m:\u001b[0m\u001b[0;34m\u001b[0m\u001b[0;34m\u001b[0m\u001b[0m\n\u001b[0;32m--> 816\u001b[0;31m                     \u001b[0;32myield\u001b[0m \u001b[0;32mfrom\u001b[0m \u001b[0mself\u001b[0m\u001b[0;34m.\u001b[0m\u001b[0mraw\u001b[0m\u001b[0;34m.\u001b[0m\u001b[0mstream\u001b[0m\u001b[0;34m(\u001b[0m\u001b[0mchunk_size\u001b[0m\u001b[0;34m,\u001b[0m \u001b[0mdecode_content\u001b[0m\u001b[0;34m=\u001b[0m\u001b[0;32mTrue\u001b[0m\u001b[0;34m)\u001b[0m\u001b[0;34m\u001b[0m\u001b[0;34m\u001b[0m\u001b[0m\n\u001b[0m\u001b[1;32m    817\u001b[0m                 \u001b[0;32mexcept\u001b[0m \u001b[0mProtocolError\u001b[0m \u001b[0;32mas\u001b[0m \u001b[0me\u001b[0m\u001b[0;34m:\u001b[0m\u001b[0;34m\u001b[0m\u001b[0;34m\u001b[0m\u001b[0m\n\u001b[1;32m    818\u001b[0m                     \u001b[0;32mraise\u001b[0m \u001b[0mChunkedEncodingError\u001b[0m\u001b[0;34m(\u001b[0m\u001b[0me\u001b[0m\u001b[0;34m)\u001b[0m\u001b[0;34m\u001b[0m\u001b[0;34m\u001b[0m\u001b[0m\n",
            "\u001b[0;32m/usr/local/lib/python3.10/dist-packages/urllib3/response.py\u001b[0m in \u001b[0;36mstream\u001b[0;34m(self, amt, decode_content)\u001b[0m\n\u001b[1;32m    938\u001b[0m         \u001b[0;32melse\u001b[0m\u001b[0;34m:\u001b[0m\u001b[0;34m\u001b[0m\u001b[0;34m\u001b[0m\u001b[0m\n\u001b[1;32m    939\u001b[0m             \u001b[0;32mwhile\u001b[0m \u001b[0;32mnot\u001b[0m \u001b[0mis_fp_closed\u001b[0m\u001b[0;34m(\u001b[0m\u001b[0mself\u001b[0m\u001b[0;34m.\u001b[0m\u001b[0m_fp\u001b[0m\u001b[0;34m)\u001b[0m \u001b[0;32mor\u001b[0m \u001b[0mlen\u001b[0m\u001b[0;34m(\u001b[0m\u001b[0mself\u001b[0m\u001b[0;34m.\u001b[0m\u001b[0m_decoded_buffer\u001b[0m\u001b[0;34m)\u001b[0m \u001b[0;34m>\u001b[0m \u001b[0;36m0\u001b[0m\u001b[0;34m:\u001b[0m\u001b[0;34m\u001b[0m\u001b[0;34m\u001b[0m\u001b[0m\n\u001b[0;32m--> 940\u001b[0;31m                 \u001b[0mdata\u001b[0m \u001b[0;34m=\u001b[0m \u001b[0mself\u001b[0m\u001b[0;34m.\u001b[0m\u001b[0mread\u001b[0m\u001b[0;34m(\u001b[0m\u001b[0mamt\u001b[0m\u001b[0;34m=\u001b[0m\u001b[0mamt\u001b[0m\u001b[0;34m,\u001b[0m \u001b[0mdecode_content\u001b[0m\u001b[0;34m=\u001b[0m\u001b[0mdecode_content\u001b[0m\u001b[0;34m)\u001b[0m\u001b[0;34m\u001b[0m\u001b[0;34m\u001b[0m\u001b[0m\n\u001b[0m\u001b[1;32m    941\u001b[0m \u001b[0;34m\u001b[0m\u001b[0m\n\u001b[1;32m    942\u001b[0m                 \u001b[0;32mif\u001b[0m \u001b[0mdata\u001b[0m\u001b[0;34m:\u001b[0m\u001b[0;34m\u001b[0m\u001b[0;34m\u001b[0m\u001b[0m\n",
            "\u001b[0;32m/usr/local/lib/python3.10/dist-packages/urllib3/response.py\u001b[0m in \u001b[0;36mread\u001b[0;34m(self, amt, decode_content, cache_content)\u001b[0m\n\u001b[1;32m    877\u001b[0m                 \u001b[0;32mreturn\u001b[0m \u001b[0mself\u001b[0m\u001b[0;34m.\u001b[0m\u001b[0m_decoded_buffer\u001b[0m\u001b[0;34m.\u001b[0m\u001b[0mget\u001b[0m\u001b[0;34m(\u001b[0m\u001b[0mamt\u001b[0m\u001b[0;34m)\u001b[0m\u001b[0;34m\u001b[0m\u001b[0;34m\u001b[0m\u001b[0m\n\u001b[1;32m    878\u001b[0m \u001b[0;34m\u001b[0m\u001b[0m\n\u001b[0;32m--> 879\u001b[0;31m         \u001b[0mdata\u001b[0m \u001b[0;34m=\u001b[0m \u001b[0mself\u001b[0m\u001b[0;34m.\u001b[0m\u001b[0m_raw_read\u001b[0m\u001b[0;34m(\u001b[0m\u001b[0mamt\u001b[0m\u001b[0;34m)\u001b[0m\u001b[0;34m\u001b[0m\u001b[0;34m\u001b[0m\u001b[0m\n\u001b[0m\u001b[1;32m    880\u001b[0m \u001b[0;34m\u001b[0m\u001b[0m\n\u001b[1;32m    881\u001b[0m         \u001b[0mflush_decoder\u001b[0m \u001b[0;34m=\u001b[0m \u001b[0;32mFalse\u001b[0m\u001b[0;34m\u001b[0m\u001b[0;34m\u001b[0m\u001b[0m\n",
            "\u001b[0;32m/usr/local/lib/python3.10/dist-packages/urllib3/response.py\u001b[0m in \u001b[0;36m_raw_read\u001b[0;34m(self, amt)\u001b[0m\n\u001b[1;32m    812\u001b[0m \u001b[0;34m\u001b[0m\u001b[0m\n\u001b[1;32m    813\u001b[0m         \u001b[0;32mwith\u001b[0m \u001b[0mself\u001b[0m\u001b[0;34m.\u001b[0m\u001b[0m_error_catcher\u001b[0m\u001b[0;34m(\u001b[0m\u001b[0;34m)\u001b[0m\u001b[0;34m:\u001b[0m\u001b[0;34m\u001b[0m\u001b[0;34m\u001b[0m\u001b[0m\n\u001b[0;32m--> 814\u001b[0;31m             \u001b[0mdata\u001b[0m \u001b[0;34m=\u001b[0m \u001b[0mself\u001b[0m\u001b[0;34m.\u001b[0m\u001b[0m_fp_read\u001b[0m\u001b[0;34m(\u001b[0m\u001b[0mamt\u001b[0m\u001b[0;34m)\u001b[0m \u001b[0;32mif\u001b[0m \u001b[0;32mnot\u001b[0m \u001b[0mfp_closed\u001b[0m \u001b[0;32melse\u001b[0m \u001b[0;34mb\"\"\u001b[0m\u001b[0;34m\u001b[0m\u001b[0;34m\u001b[0m\u001b[0m\n\u001b[0m\u001b[1;32m    815\u001b[0m             \u001b[0;32mif\u001b[0m \u001b[0mamt\u001b[0m \u001b[0;32mis\u001b[0m \u001b[0;32mnot\u001b[0m \u001b[0;32mNone\u001b[0m \u001b[0;32mand\u001b[0m \u001b[0mamt\u001b[0m \u001b[0;34m!=\u001b[0m \u001b[0;36m0\u001b[0m \u001b[0;32mand\u001b[0m \u001b[0;32mnot\u001b[0m \u001b[0mdata\u001b[0m\u001b[0;34m:\u001b[0m\u001b[0;34m\u001b[0m\u001b[0;34m\u001b[0m\u001b[0m\n\u001b[1;32m    816\u001b[0m                 \u001b[0;31m# Platform-specific: Buggy versions of Python.\u001b[0m\u001b[0;34m\u001b[0m\u001b[0;34m\u001b[0m\u001b[0m\n",
            "\u001b[0;32m/usr/local/lib/python3.10/dist-packages/urllib3/response.py\u001b[0m in \u001b[0;36m_fp_read\u001b[0;34m(self, amt)\u001b[0m\n\u001b[1;32m    797\u001b[0m         \u001b[0;32melse\u001b[0m\u001b[0;34m:\u001b[0m\u001b[0;34m\u001b[0m\u001b[0;34m\u001b[0m\u001b[0m\n\u001b[1;32m    798\u001b[0m             \u001b[0;31m# StringIO doesn't like amt=None\u001b[0m\u001b[0;34m\u001b[0m\u001b[0;34m\u001b[0m\u001b[0m\n\u001b[0;32m--> 799\u001b[0;31m             \u001b[0;32mreturn\u001b[0m \u001b[0mself\u001b[0m\u001b[0;34m.\u001b[0m\u001b[0m_fp\u001b[0m\u001b[0;34m.\u001b[0m\u001b[0mread\u001b[0m\u001b[0;34m(\u001b[0m\u001b[0mamt\u001b[0m\u001b[0;34m)\u001b[0m \u001b[0;32mif\u001b[0m \u001b[0mamt\u001b[0m \u001b[0;32mis\u001b[0m \u001b[0;32mnot\u001b[0m \u001b[0;32mNone\u001b[0m \u001b[0;32melse\u001b[0m \u001b[0mself\u001b[0m\u001b[0;34m.\u001b[0m\u001b[0m_fp\u001b[0m\u001b[0;34m.\u001b[0m\u001b[0mread\u001b[0m\u001b[0;34m(\u001b[0m\u001b[0;34m)\u001b[0m\u001b[0;34m\u001b[0m\u001b[0;34m\u001b[0m\u001b[0m\n\u001b[0m\u001b[1;32m    800\u001b[0m \u001b[0;34m\u001b[0m\u001b[0m\n\u001b[1;32m    801\u001b[0m     def _raw_read(\n",
            "\u001b[0;32m/usr/lib/python3.10/http/client.py\u001b[0m in \u001b[0;36mread\u001b[0;34m(self, amt)\u001b[0m\n\u001b[1;32m    464\u001b[0m                 \u001b[0;31m# clip the read to the \"end of response\"\u001b[0m\u001b[0;34m\u001b[0m\u001b[0;34m\u001b[0m\u001b[0m\n\u001b[1;32m    465\u001b[0m                 \u001b[0mamt\u001b[0m \u001b[0;34m=\u001b[0m \u001b[0mself\u001b[0m\u001b[0;34m.\u001b[0m\u001b[0mlength\u001b[0m\u001b[0;34m\u001b[0m\u001b[0;34m\u001b[0m\u001b[0m\n\u001b[0;32m--> 466\u001b[0;31m             \u001b[0ms\u001b[0m \u001b[0;34m=\u001b[0m \u001b[0mself\u001b[0m\u001b[0;34m.\u001b[0m\u001b[0mfp\u001b[0m\u001b[0;34m.\u001b[0m\u001b[0mread\u001b[0m\u001b[0;34m(\u001b[0m\u001b[0mamt\u001b[0m\u001b[0;34m)\u001b[0m\u001b[0;34m\u001b[0m\u001b[0;34m\u001b[0m\u001b[0m\n\u001b[0m\u001b[1;32m    467\u001b[0m             \u001b[0;32mif\u001b[0m \u001b[0;32mnot\u001b[0m \u001b[0ms\u001b[0m \u001b[0;32mand\u001b[0m \u001b[0mamt\u001b[0m\u001b[0;34m:\u001b[0m\u001b[0;34m\u001b[0m\u001b[0;34m\u001b[0m\u001b[0m\n\u001b[1;32m    468\u001b[0m                 \u001b[0;31m# Ideally, we would raise IncompleteRead if the content-length\u001b[0m\u001b[0;34m\u001b[0m\u001b[0;34m\u001b[0m\u001b[0m\n",
            "\u001b[0;32m/usr/lib/python3.10/socket.py\u001b[0m in \u001b[0;36mreadinto\u001b[0;34m(self, b)\u001b[0m\n\u001b[1;32m    703\u001b[0m         \u001b[0;32mwhile\u001b[0m \u001b[0;32mTrue\u001b[0m\u001b[0;34m:\u001b[0m\u001b[0;34m\u001b[0m\u001b[0;34m\u001b[0m\u001b[0m\n\u001b[1;32m    704\u001b[0m             \u001b[0;32mtry\u001b[0m\u001b[0;34m:\u001b[0m\u001b[0;34m\u001b[0m\u001b[0;34m\u001b[0m\u001b[0m\n\u001b[0;32m--> 705\u001b[0;31m                 \u001b[0;32mreturn\u001b[0m \u001b[0mself\u001b[0m\u001b[0;34m.\u001b[0m\u001b[0m_sock\u001b[0m\u001b[0;34m.\u001b[0m\u001b[0mrecv_into\u001b[0m\u001b[0;34m(\u001b[0m\u001b[0mb\u001b[0m\u001b[0;34m)\u001b[0m\u001b[0;34m\u001b[0m\u001b[0;34m\u001b[0m\u001b[0m\n\u001b[0m\u001b[1;32m    706\u001b[0m             \u001b[0;32mexcept\u001b[0m \u001b[0mtimeout\u001b[0m\u001b[0;34m:\u001b[0m\u001b[0;34m\u001b[0m\u001b[0;34m\u001b[0m\u001b[0m\n\u001b[1;32m    707\u001b[0m                 \u001b[0mself\u001b[0m\u001b[0;34m.\u001b[0m\u001b[0m_timeout_occurred\u001b[0m \u001b[0;34m=\u001b[0m \u001b[0;32mTrue\u001b[0m\u001b[0;34m\u001b[0m\u001b[0;34m\u001b[0m\u001b[0m\n",
            "\u001b[0;32m/usr/lib/python3.10/ssl.py\u001b[0m in \u001b[0;36mrecv_into\u001b[0;34m(self, buffer, nbytes, flags)\u001b[0m\n\u001b[1;32m   1272\u001b[0m                   \u001b[0;34m\"non-zero flags not allowed in calls to recv_into() on %s\"\u001b[0m \u001b[0;34m%\u001b[0m\u001b[0;34m\u001b[0m\u001b[0;34m\u001b[0m\u001b[0m\n\u001b[1;32m   1273\u001b[0m                   self.__class__)\n\u001b[0;32m-> 1274\u001b[0;31m             \u001b[0;32mreturn\u001b[0m \u001b[0mself\u001b[0m\u001b[0;34m.\u001b[0m\u001b[0mread\u001b[0m\u001b[0;34m(\u001b[0m\u001b[0mnbytes\u001b[0m\u001b[0;34m,\u001b[0m \u001b[0mbuffer\u001b[0m\u001b[0;34m)\u001b[0m\u001b[0;34m\u001b[0m\u001b[0;34m\u001b[0m\u001b[0m\n\u001b[0m\u001b[1;32m   1275\u001b[0m         \u001b[0;32melse\u001b[0m\u001b[0;34m:\u001b[0m\u001b[0;34m\u001b[0m\u001b[0;34m\u001b[0m\u001b[0m\n\u001b[1;32m   1276\u001b[0m             \u001b[0;32mreturn\u001b[0m \u001b[0msuper\u001b[0m\u001b[0;34m(\u001b[0m\u001b[0;34m)\u001b[0m\u001b[0;34m.\u001b[0m\u001b[0mrecv_into\u001b[0m\u001b[0;34m(\u001b[0m\u001b[0mbuffer\u001b[0m\u001b[0;34m,\u001b[0m \u001b[0mnbytes\u001b[0m\u001b[0;34m,\u001b[0m \u001b[0mflags\u001b[0m\u001b[0;34m)\u001b[0m\u001b[0;34m\u001b[0m\u001b[0;34m\u001b[0m\u001b[0m\n",
            "\u001b[0;32m/usr/lib/python3.10/ssl.py\u001b[0m in \u001b[0;36mread\u001b[0;34m(self, len, buffer)\u001b[0m\n\u001b[1;32m   1128\u001b[0m         \u001b[0;32mtry\u001b[0m\u001b[0;34m:\u001b[0m\u001b[0;34m\u001b[0m\u001b[0;34m\u001b[0m\u001b[0m\n\u001b[1;32m   1129\u001b[0m             \u001b[0;32mif\u001b[0m \u001b[0mbuffer\u001b[0m \u001b[0;32mis\u001b[0m \u001b[0;32mnot\u001b[0m \u001b[0;32mNone\u001b[0m\u001b[0;34m:\u001b[0m\u001b[0;34m\u001b[0m\u001b[0;34m\u001b[0m\u001b[0m\n\u001b[0;32m-> 1130\u001b[0;31m                 \u001b[0;32mreturn\u001b[0m \u001b[0mself\u001b[0m\u001b[0;34m.\u001b[0m\u001b[0m_sslobj\u001b[0m\u001b[0;34m.\u001b[0m\u001b[0mread\u001b[0m\u001b[0;34m(\u001b[0m\u001b[0mlen\u001b[0m\u001b[0;34m,\u001b[0m \u001b[0mbuffer\u001b[0m\u001b[0;34m)\u001b[0m\u001b[0;34m\u001b[0m\u001b[0;34m\u001b[0m\u001b[0m\n\u001b[0m\u001b[1;32m   1131\u001b[0m             \u001b[0;32melse\u001b[0m\u001b[0;34m:\u001b[0m\u001b[0;34m\u001b[0m\u001b[0;34m\u001b[0m\u001b[0m\n\u001b[1;32m   1132\u001b[0m                 \u001b[0;32mreturn\u001b[0m \u001b[0mself\u001b[0m\u001b[0;34m.\u001b[0m\u001b[0m_sslobj\u001b[0m\u001b[0;34m.\u001b[0m\u001b[0mread\u001b[0m\u001b[0;34m(\u001b[0m\u001b[0mlen\u001b[0m\u001b[0;34m)\u001b[0m\u001b[0;34m\u001b[0m\u001b[0;34m\u001b[0m\u001b[0m\n",
            "\u001b[0;31mKeyboardInterrupt\u001b[0m: "
          ]
        }
      ]
    },
    {
      "cell_type": "markdown",
      "source": [
        "9 b) Demonstrate python program to read the data from the spreadsheet and write the data in to the spreadsheet"
      ],
      "metadata": {
        "id": "NErISxSTX2Pg"
      }
    },
    {
      "cell_type": "code",
      "source": [
        "import openpyxl\n",
        "\n",
        "def read_data_from_spreadsheet(filename):\n",
        "  workbook = openpyxl.load_workbook(filename)\n",
        "  sheet = workbook.active\n",
        "\n",
        "  data = []\n",
        "  for row in sheet.iter_rows(values_only=True):\n",
        "    data.append(row)\n",
        "\n",
        "  return data\n",
        "\n",
        "def write_data_to_spreadsheet(filename, data):\n",
        "  workbook = openpyxl.Workbook()\n",
        "  sheet = workbook.active\n",
        "\n",
        "  for row in data:\n",
        "    sheet.append(row)\n",
        "\n",
        "  workbook.save(filename)\n",
        "\n",
        "\n",
        "input_filename = 'input.xlsx'\n",
        "\n",
        "read_data = read_data_from_spreadsheet(input_filename)\n",
        "\n",
        "print(\"data read from spreadsheet:\")\n",
        "for row in read_data:\n",
        "  print(row)\n",
        "\n",
        "write_data = [\n",
        "    ['name','age','city'],\n",
        "    ['anil',45,'tumkur'],\n",
        "    ['sunil',37,'bangalore'],\n",
        "    ['hari',43,'gubbi']\n",
        "]\n",
        "output_filename = 'output.xlsx'\n",
        "write_data_to_spreadsheet(output_filename,write_data)\n",
        "print(\"Data written to spreadsheet:\",output_filename)\n"
      ],
      "metadata": {
        "colab": {
          "base_uri": "https://localhost:8080/"
        },
        "id": "SWt0XnZ5gqJn",
        "outputId": "45d9b638-d70d-452d-d3e6-fb32b329c800"
      },
      "execution_count": null,
      "outputs": [
        {
          "output_type": "stream",
          "name": "stdout",
          "text": [
            "data read from spreadsheet:\n",
            "('Name', 'Age', 'City')\n",
            "('Anil', 43, 'Tumkur')\n",
            "('Sunil ', 24, 'Blore')\n",
            "('hari', 34, 'Gubbi')\n",
            "Data written to spreadsheet: output.xlsx\n"
          ]
        }
      ]
    }
  ],
  "metadata": {
    "colab": {
      "provenance": []
    },
    "kernelspec": {
      "display_name": "Python 3",
      "name": "python3"
    },
    "language_info": {
      "name": "python"
    }
  },
  "nbformat": 4,
  "nbformat_minor": 0
}